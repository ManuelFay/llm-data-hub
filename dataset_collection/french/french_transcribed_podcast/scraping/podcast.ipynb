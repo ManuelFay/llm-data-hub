{
 "cells": [
  {
   "cell_type": "code",
   "execution_count": 46,
   "metadata": {},
   "outputs": [],
   "source": [
    "import pandas as pd\n",
    "import concurrent.futures\n",
    "import requests\n",
    "from tqdm import tqdm\n",
    "import os\n",
    "import feedparser"
   ]
  },
  {
   "cell_type": "code",
   "execution_count": 48,
   "metadata": {},
   "outputs": [
    {
     "data": {
      "text/html": [
       "<div>\n",
       "<style scoped>\n",
       "    .dataframe tbody tr th:only-of-type {\n",
       "        vertical-align: middle;\n",
       "    }\n",
       "\n",
       "    .dataframe tbody tr th {\n",
       "        vertical-align: top;\n",
       "    }\n",
       "\n",
       "    .dataframe thead th {\n",
       "        text-align: right;\n",
       "    }\n",
       "</style>\n",
       "<table border=\"1\" class=\"dataframe\">\n",
       "  <thead>\n",
       "    <tr style=\"text-align: right;\">\n",
       "      <th></th>\n",
       "      <th>UGC_TECH_ID</th>\n",
       "      <th>UGC_USER_NAME</th>\n",
       "      <th>UGC_USER_DESCRIPTION</th>\n",
       "      <th>UGC_DOC_DESCRIPTION</th>\n",
       "      <th>UGC_DOC_CATEGORIE</th>\n",
       "      <th>UGC_DOC_DESCRIPTEURS</th>\n",
       "      <th>UGC_DOC_GENRES</th>\n",
       "      <th>UGC_DOC_TYPE_PROGRAMME</th>\n",
       "      <th>UGC_DOC_CHAINES</th>\n",
       "      <th>UGC_DOC_EMISSIONS</th>\n",
       "      <th>UGC_TECH_DATE_ENTREE_COLLECTE</th>\n",
       "      <th>UGC_TECH_RSS_URL</th>\n",
       "      <th>UGC_TECH_RSS_URL_REDIRECT</th>\n",
       "      <th>UGC_TECH_IMAGE</th>\n",
       "      <th>UGC_TECH_LINK_URL</th>\n",
       "      <th>UGC_TECH_AUTEUR</th>\n",
       "      <th>UGC_TECH_TITRE</th>\n",
       "    </tr>\n",
       "  </thead>\n",
       "  <tbody>\n",
       "    <tr>\n",
       "      <th>0</th>\n",
       "      <td>RMC__Le_grand_oral_des_GG</td>\n",
       "      <td>RMC - Le grand oral des GG</td>\n",
       "      <td>L'actualité du jour commentée à chaud avec imp...</td>\n",
       "      <td>à compléter</td>\n",
       "      <td>Talk Radio</td>\n",
       "      <td>radio</td>\n",
       "      <td>Web TV</td>\n",
       "      <td>Émission native web</td>\n",
       "      <td>NaN</td>\n",
       "      <td>NaN</td>\n",
       "      <td>2020-07-30</td>\n",
       "      <td>http://podcast.rmc.fr/channel49/RMCInfochannel...</td>\n",
       "      <td>http://podcast.rmc.fr/channel49/RMCInfochannel...</td>\n",
       "      <td>https://frontrmcimg.streamakaci.com/images/140...</td>\n",
       "      <td>http://rmc.bfmtv.com/mediaplayer/podcast/l-inv...</td>\n",
       "      <td>RMC</td>\n",
       "      <td>Le grand oral des GG</td>\n",
       "    </tr>\n",
       "    <tr>\n",
       "      <th>1</th>\n",
       "      <td>rfi-ensemble_a_la_maison</td>\n",
       "      <td>RFI-Ensemble à la maison</td>\n",
       "      <td>Les réseaux sociaux sont devenus essentiels po...</td>\n",
       "      <td>Emission mise en place durant le confinement l...</td>\n",
       "      <td>NaN</td>\n",
       "      <td>téléchargement (podcast)\\nInternet\\nsite inter...</td>\n",
       "      <td>NaN</td>\n",
       "      <td>NaN</td>\n",
       "      <td>NaN</td>\n",
       "      <td>NaN</td>\n",
       "      <td>2020-06-04</td>\n",
       "      <td>https://apis.rfi.fr/products/get_product/rfi_g...</td>\n",
       "      <td>NaN</td>\n",
       "      <td>https://s.rfi.fr/media/display/e7cc4546-7266-1...</td>\n",
       "      <td>http://www.rfi.fr/fr/podcasts/ensemble-%C3%A0-...</td>\n",
       "      <td>RFI</td>\n",
       "      <td>Ensemble à la maison</td>\n",
       "    </tr>\n",
       "    <tr>\n",
       "      <th>2</th>\n",
       "      <td>rfi-la_une_de_la_presse_cette_semaine_a_kinshasa</td>\n",
       "      <td>RFI-La une de la presse cette semaine à Kinshasa</td>\n",
       "      <td>Toutes les semaines, RFI vous propose de feuil...</td>\n",
       "      <td>Chronique de Kamanda wa Kamanda Muzembe consac...</td>\n",
       "      <td>NaN</td>\n",
       "      <td>téléchargement (podcast)\\nRépublique démocrati...</td>\n",
       "      <td>NaN</td>\n",
       "      <td>NaN</td>\n",
       "      <td>NaN</td>\n",
       "      <td>NaN</td>\n",
       "      <td>2020-06-04</td>\n",
       "      <td>https://apis.rfi.fr/products/get_product/rfi_g...</td>\n",
       "      <td>NaN</td>\n",
       "      <td>https://s.rfi.fr/media/display/613b548e-5fd0-1...</td>\n",
       "      <td>http://www.rfi.fr/fr/podcasts/une-presse-cette...</td>\n",
       "      <td>RFI</td>\n",
       "      <td>La une de la presse cette semaine à Kinshasa</td>\n",
       "    </tr>\n",
       "    <tr>\n",
       "      <th>3</th>\n",
       "      <td>rfi-le_regard_du_monde_afrique</td>\n",
       "      <td>RFI-Le regard du «Monde Afrique»</td>\n",
       "      <td>Chaque samedi, RFI présente un article du jour...</td>\n",
       "      <td>Chronique hebdomadaire consacrée à l'actualité...</td>\n",
       "      <td>NaN</td>\n",
       "      <td>téléchargement (podcast)\\nAfrique\\nactualité\\n...</td>\n",
       "      <td>NaN</td>\n",
       "      <td>NaN</td>\n",
       "      <td>NaN</td>\n",
       "      <td>NaN</td>\n",
       "      <td>2020-06-04</td>\n",
       "      <td>https://apis.rfi.fr/products/get_product/rfi_g...</td>\n",
       "      <td>NaN</td>\n",
       "      <td>https://s.rfi.fr/media/display/da830c0e-9eb6-1...</td>\n",
       "      <td>http://www.rfi.fr/fr/podcasts/le-regard-monde-...</td>\n",
       "      <td>RFI</td>\n",
       "      <td>Le regard du «Monde Afrique»</td>\n",
       "    </tr>\n",
       "    <tr>\n",
       "      <th>4</th>\n",
       "      <td>rfi-sessionlab</td>\n",
       "      <td>RFI-SessionLab</td>\n",
       "      <td>SessionLab est un programme musical diffusé un...</td>\n",
       "      <td>Emission musicale hebdomadaire uniquement diff...</td>\n",
       "      <td>NaN</td>\n",
       "      <td>téléchargement (podcast)\\nmusique\\nchanteur\\nm...</td>\n",
       "      <td>NaN</td>\n",
       "      <td>NaN</td>\n",
       "      <td>NaN</td>\n",
       "      <td>NaN</td>\n",
       "      <td>2020-06-04</td>\n",
       "      <td>https://apis.rfi.fr/products/get_product/rfi_g...</td>\n",
       "      <td>NaN</td>\n",
       "      <td>https://s.rfi.fr/media/display/803ddb90-5fd0-1...</td>\n",
       "      <td>http://www.rfi.fr/fr/podcasts/sessionlab/</td>\n",
       "      <td>RFI</td>\n",
       "      <td>SessionLab</td>\n",
       "    </tr>\n",
       "  </tbody>\n",
       "</table>\n",
       "</div>"
      ],
      "text/plain": [
       "                                        UGC_TECH_ID  \\\n",
       "0                         RMC__Le_grand_oral_des_GG   \n",
       "1                          rfi-ensemble_a_la_maison   \n",
       "2  rfi-la_une_de_la_presse_cette_semaine_a_kinshasa   \n",
       "3                    rfi-le_regard_du_monde_afrique   \n",
       "4                                    rfi-sessionlab   \n",
       "\n",
       "                                      UGC_USER_NAME  \\\n",
       "0                        RMC - Le grand oral des GG   \n",
       "1                          RFI-Ensemble à la maison   \n",
       "2  RFI-La une de la presse cette semaine à Kinshasa   \n",
       "3                  RFI-Le regard du «Monde Afrique»   \n",
       "4                                    RFI-SessionLab   \n",
       "\n",
       "                                UGC_USER_DESCRIPTION  \\\n",
       "0  L'actualité du jour commentée à chaud avec imp...   \n",
       "1  Les réseaux sociaux sont devenus essentiels po...   \n",
       "2  Toutes les semaines, RFI vous propose de feuil...   \n",
       "3  Chaque samedi, RFI présente un article du jour...   \n",
       "4  SessionLab est un programme musical diffusé un...   \n",
       "\n",
       "                                 UGC_DOC_DESCRIPTION UGC_DOC_CATEGORIE  \\\n",
       "0                                        à compléter        Talk Radio   \n",
       "1  Emission mise en place durant le confinement l...               NaN   \n",
       "2  Chronique de Kamanda wa Kamanda Muzembe consac...               NaN   \n",
       "3  Chronique hebdomadaire consacrée à l'actualité...               NaN   \n",
       "4  Emission musicale hebdomadaire uniquement diff...               NaN   \n",
       "\n",
       "                                UGC_DOC_DESCRIPTEURS UGC_DOC_GENRES  \\\n",
       "0                                              radio         Web TV   \n",
       "1  téléchargement (podcast)\\nInternet\\nsite inter...            NaN   \n",
       "2  téléchargement (podcast)\\nRépublique démocrati...            NaN   \n",
       "3  téléchargement (podcast)\\nAfrique\\nactualité\\n...            NaN   \n",
       "4  téléchargement (podcast)\\nmusique\\nchanteur\\nm...            NaN   \n",
       "\n",
       "  UGC_DOC_TYPE_PROGRAMME UGC_DOC_CHAINES UGC_DOC_EMISSIONS  \\\n",
       "0    Émission native web             NaN               NaN   \n",
       "1                    NaN             NaN               NaN   \n",
       "2                    NaN             NaN               NaN   \n",
       "3                    NaN             NaN               NaN   \n",
       "4                    NaN             NaN               NaN   \n",
       "\n",
       "  UGC_TECH_DATE_ENTREE_COLLECTE  \\\n",
       "0                    2020-07-30   \n",
       "1                    2020-06-04   \n",
       "2                    2020-06-04   \n",
       "3                    2020-06-04   \n",
       "4                    2020-06-04   \n",
       "\n",
       "                                    UGC_TECH_RSS_URL  \\\n",
       "0  http://podcast.rmc.fr/channel49/RMCInfochannel...   \n",
       "1  https://apis.rfi.fr/products/get_product/rfi_g...   \n",
       "2  https://apis.rfi.fr/products/get_product/rfi_g...   \n",
       "3  https://apis.rfi.fr/products/get_product/rfi_g...   \n",
       "4  https://apis.rfi.fr/products/get_product/rfi_g...   \n",
       "\n",
       "                           UGC_TECH_RSS_URL_REDIRECT  \\\n",
       "0  http://podcast.rmc.fr/channel49/RMCInfochannel...   \n",
       "1                                                NaN   \n",
       "2                                                NaN   \n",
       "3                                                NaN   \n",
       "4                                                NaN   \n",
       "\n",
       "                                      UGC_TECH_IMAGE  \\\n",
       "0  https://frontrmcimg.streamakaci.com/images/140...   \n",
       "1  https://s.rfi.fr/media/display/e7cc4546-7266-1...   \n",
       "2  https://s.rfi.fr/media/display/613b548e-5fd0-1...   \n",
       "3  https://s.rfi.fr/media/display/da830c0e-9eb6-1...   \n",
       "4  https://s.rfi.fr/media/display/803ddb90-5fd0-1...   \n",
       "\n",
       "                                   UGC_TECH_LINK_URL UGC_TECH_AUTEUR  \\\n",
       "0  http://rmc.bfmtv.com/mediaplayer/podcast/l-inv...             RMC   \n",
       "1  http://www.rfi.fr/fr/podcasts/ensemble-%C3%A0-...             RFI   \n",
       "2  http://www.rfi.fr/fr/podcasts/une-presse-cette...             RFI   \n",
       "3  http://www.rfi.fr/fr/podcasts/le-regard-monde-...             RFI   \n",
       "4          http://www.rfi.fr/fr/podcasts/sessionlab/             RFI   \n",
       "\n",
       "                                 UGC_TECH_TITRE  \n",
       "0                          Le grand oral des GG  \n",
       "1                          Ensemble à la maison  \n",
       "2  La une de la presse cette semaine à Kinshasa  \n",
       "3                  Le regard du «Monde Afrique»  \n",
       "4                                    SessionLab  "
      ]
     },
     "execution_count": 48,
     "metadata": {},
     "output_type": "execute_result"
    }
   ],
   "source": [
    "# https://www.data.gouv.fr/fr/datasets/r/9e19b1a5-4c30-46ca-a156-54c120a3c5fe\n",
    "df = pd.read_csv(\"/home/nicolas/Downloads/depot-legal-du-web-liste-podcasts.csv\")\n",
    "df = df[['UGC_TECH_ID', 'UGC_TECH_DATE_ENTREE_COLLECTE', 'UGC_TECH_RSS_URL']].copy()\n"
   ]
  },
  {
   "cell_type": "markdown",
   "metadata": {},
   "source": [
    "### Saved rss file in a folder"
   ]
  },
  {
   "cell_type": "code",
   "execution_count": 3,
   "metadata": {},
   "outputs": [
    {
     "name": "stderr",
     "output_type": "stream",
     "text": [
      " 12%|█▏        | 610/5298 [00:26<02:04, 37.67it/s]"
     ]
    },
    {
     "name": "stdout",
     "output_type": "stream",
     "text": [
      "Error downloading http://podcastpresence.streamakaci.com/xml/clefspourvivre.xml: HTTPConnectionPool(host='podcastpresence.streamakaci.com', port=80): Max retries exceeded with url: /xml/clefspourvivre.xml (Caused by NewConnectionError('<urllib3.connection.HTTPConnection object at 0x7fc08d6ce890>: Failed to establish a new connection: [Errno -2] Name or service not known'))\n",
      "Error downloading http://podcast13.streamakaci.com/xml/GAMEONE26.xml: HTTPConnectionPool(host='podcast13.streamakaci.com', port=80): Max retries exceeded with url: /xml/GAMEONE26.xml (Caused by NewConnectionError('<urllib3.connection.HTTPConnection object at 0x7fc08e6970d0>: Failed to establish a new connection: [Errno -2] Name or service not known'))\n"
     ]
    },
    {
     "name": "stderr",
     "output_type": "stream",
     "text": [
      " 13%|█▎        | 692/5298 [00:31<03:38, 21.05it/s]"
     ]
    },
    {
     "name": "stdout",
     "output_type": "stream",
     "text": [
      "Error downloading http://rss.allocine.fr/bandesannonces/ipod: HTTPConnectionPool(host='rss.allocine.fr', port=80): Max retries exceeded with url: /bandesannonces/ipod (Caused by NewConnectionError('<urllib3.connection.HTTPConnection object at 0x7fc08d7ac8e0>: Failed to establish a new connection: [Errno -2] Name or service not known'))\n"
     ]
    },
    {
     "name": "stderr",
     "output_type": "stream",
     "text": [
      " 15%|█▌        | 795/5298 [00:36<02:52, 26.18it/s]"
     ]
    },
    {
     "name": "stdout",
     "output_type": "stream",
     "text": [
      "Error downloading http://podcastpresence.streamakaci.com/xml/liste.xml: HTTPConnectionPool(host='podcastpresence.streamakaci.com', port=80): Max retries exceeded with url: /xml/liste.xml (Caused by NewConnectionError('<urllib3.connection.HTTPConnection object at 0x7fc08d78c790>: Failed to establish a new connection: [Errno -2] Name or service not known'))\n"
     ]
    },
    {
     "name": "stderr",
     "output_type": "stream",
     "text": [
      " 19%|█▉        | 1022/5298 [00:48<03:33, 20.00it/s]"
     ]
    },
    {
     "name": "stdout",
     "output_type": "stream",
     "text": [
      "Error downloading https://entrepreneur-hebdo.fr/feed/podcast/: HTTPSConnectionPool(host='entrepreneur-hebdo.fr', port=443): Max retries exceeded with url: /feed/podcast/ (Caused by NewConnectionError('<urllib3.connection.HTTPSConnection object at 0x7fc08e6e81f0>: Failed to establish a new connection: [Errno -3] Temporary failure in name resolution'))\n"
     ]
    },
    {
     "name": "stderr",
     "output_type": "stream",
     "text": [
      " 20%|█▉        | 1056/5298 [00:50<03:28, 20.34it/s]"
     ]
    },
    {
     "name": "stdout",
     "output_type": "stream",
     "text": [
      "Error downloading http://www.podcast-octogon.fr/podcast.xml: HTTPConnectionPool(host='www.podcast-octogon.fr', port=80): Max retries exceeded with url: /podcast.xml (Caused by NewConnectionError('<urllib3.connection.HTTPConnection object at 0x7fc08d6d05e0>: Failed to establish a new connection: [Errno -2] Name or service not known'))\n"
     ]
    },
    {
     "name": "stderr",
     "output_type": "stream",
     "text": [
      " 21%|██        | 1114/5298 [00:54<03:51, 18.09it/s]"
     ]
    },
    {
     "name": "stdout",
     "output_type": "stream",
     "text": [
      "Error downloading http://rss.allocine.fr/fauxraccord/ipod: HTTPConnectionPool(host='rss.allocine.fr', port=80): Max retries exceeded with url: /fauxraccord/ipod (Caused by NewConnectionError('<urllib3.connection.HTTPConnection object at 0x7fc08e6ea110>: Failed to establish a new connection: [Errno -2] Name or service not known'))\n"
     ]
    },
    {
     "name": "stderr",
     "output_type": "stream",
     "text": [
      " 23%|██▎       | 1212/5298 [00:59<04:12, 16.21it/s]"
     ]
    },
    {
     "name": "stdout",
     "output_type": "stream",
     "text": [
      "Error downloading http://kaboomemission.com/rss.php: HTTPConnectionPool(host='kaboomemission.com', port=80): Max retries exceeded with url: /rss.php (Caused by NewConnectionError('<urllib3.connection.HTTPConnection object at 0x7fc08e6eb7c0>: Failed to establish a new connection: [Errno -2] Name or service not known'))\n"
     ]
    },
    {
     "name": "stderr",
     "output_type": "stream",
     "text": [
      " 23%|██▎       | 1228/5298 [00:59<03:20, 20.28it/s]"
     ]
    },
    {
     "name": "stdout",
     "output_type": "stream",
     "text": [
      "Error downloading http://leshack.retrogamer.ca/feed.xml: HTTPConnectionPool(host='leshack.retrogamer.ca', port=80): Max retries exceeded with url: /feed.xml (Caused by NewConnectionError('<urllib3.connection.HTTPConnection object at 0x7fc08d6f61a0>: Failed to establish a new connection: [Errno -3] Temporary failure in name resolution'))\n"
     ]
    },
    {
     "name": "stderr",
     "output_type": "stream",
     "text": [
      " 27%|██▋       | 1417/5298 [01:09<02:12, 29.22it/s]"
     ]
    },
    {
     "name": "stdout",
     "output_type": "stream",
     "text": [
      "Error downloading http://www.jaimebienquandtuparles.com/feed/podcast/septante-minutes-avec: HTTPConnectionPool(host='www.jaimebienquandtuparles.com', port=80): Max retries exceeded with url: /feed/podcast/septante-minutes-avec (Caused by NewConnectionError('<urllib3.connection.HTTPConnection object at 0x7fc08dcae350>: Failed to establish a new connection: [Errno -2] Name or service not known'))\n"
     ]
    },
    {
     "name": "stderr",
     "output_type": "stream",
     "text": [
      " 27%|██▋       | 1428/5298 [01:09<02:37, 24.55it/s]"
     ]
    },
    {
     "name": "stdout",
     "output_type": "stream",
     "text": [
      "Error downloading https://music.airfrance.com/?feed=podcast: HTTPSConnectionPool(host='music.airfrance.com', port=443): Max retries exceeded with url: /?feed=podcast (Caused by NewConnectionError('<urllib3.connection.HTTPSConnection object at 0x7fc08d6d3910>: Failed to establish a new connection: [Errno -2] Name or service not known'))\n"
     ]
    },
    {
     "name": "stderr",
     "output_type": "stream",
     "text": [
      " 28%|██▊       | 1467/5298 [01:11<02:16, 28.07it/s]"
     ]
    },
    {
     "name": "stdout",
     "output_type": "stream",
     "text": [
      "Error downloading http://podcast.bfmradio.fr/channel1/BFMchannel1.xml: HTTPConnectionPool(host='podcast.bfmradio.fr', port=80): Max retries exceeded with url: /channel1/BFMchannel1.xml (Caused by NewConnectionError('<urllib3.connection.HTTPConnection object at 0x7fc08dcae110>: Failed to establish a new connection: [Errno -2] Name or service not known'))\n"
     ]
    },
    {
     "name": "stderr",
     "output_type": "stream",
     "text": [
      " 29%|██▊       | 1521/5298 [01:14<02:40, 23.54it/s]"
     ]
    },
    {
     "name": "stdout",
     "output_type": "stream",
     "text": [
      "Error downloading http://mangouste.org/fluxrss.xml: HTTPConnectionPool(host='mangouste.org', port=80): Max retries exceeded with url: /fluxrss.xml (Caused by NewConnectionError('<urllib3.connection.HTTPConnection object at 0x7fc08dd12110>: Failed to establish a new connection: [Errno -2] Name or service not known'))\n"
     ]
    },
    {
     "name": "stderr",
     "output_type": "stream",
     "text": [
      " 31%|███       | 1625/5298 [01:18<01:51, 33.00it/s]"
     ]
    },
    {
     "name": "stdout",
     "output_type": "stream",
     "text": [
      "Error downloading http://podcast.tranceinfrance.com/7-T-Resoort%20presents%20Trance%20Station/podcast.xml: HTTPConnectionPool(host='podcast.tranceinfrance.com', port=80): Max retries exceeded with url: /7-T-Resoort%20presents%20Trance%20Station/podcast.xml (Caused by NewConnectionError('<urllib3.connection.HTTPConnection object at 0x7fc08dd124a0>: Failed to establish a new connection: [Errno -2] Name or service not known'))\n"
     ]
    },
    {
     "name": "stderr",
     "output_type": "stream",
     "text": [
      " 31%|███▏      | 1660/5298 [01:19<01:59, 30.48it/s]"
     ]
    },
    {
     "name": "stdout",
     "output_type": "stream",
     "text": [
      "Error downloading http://podcast.bfmradio.fr/channel165/BFMchannel165.xml: HTTPConnectionPool(host='podcast.bfmradio.fr', port=80): Max retries exceeded with url: /channel165/BFMchannel165.xml (Caused by NewConnectionError('<urllib3.connection.HTTPConnection object at 0x7fc08dd56950>: Failed to establish a new connection: [Errno -2] Name or service not known'))\n"
     ]
    },
    {
     "name": "stderr",
     "output_type": "stream",
     "text": [
      " 32%|███▏      | 1718/5298 [01:22<01:56, 30.71it/s]"
     ]
    },
    {
     "name": "stdout",
     "output_type": "stream",
     "text": [
      "Error downloading http://rss.allocine.fr/direct2dvd/ipod: HTTPConnectionPool(host='rss.allocine.fr', port=80): Max retries exceeded with url: /direct2dvd/ipod (Caused by NewConnectionError('<urllib3.connection.HTTPConnection object at 0x7fc08dd32aa0>: Failed to establish a new connection: [Errno -2] Name or service not known'))\n"
     ]
    },
    {
     "name": "stderr",
     "output_type": "stream",
     "text": [
      " 33%|███▎      | 1725/5298 [01:22<02:33, 23.21it/s]"
     ]
    },
    {
     "name": "stdout",
     "output_type": "stream",
     "text": [
      "Error downloading http://www.jerryjoxx.com/v5/feed/podcast: HTTPConnectionPool(host='www.jerryjoxx.com', port=80): Max retries exceeded with url: /v5/feed/podcast (Caused by NewConnectionError('<urllib3.connection.HTTPConnection object at 0x7fc08dd333d0>: Failed to establish a new connection: [Errno -2] Name or service not known'))\n"
     ]
    },
    {
     "name": "stderr",
     "output_type": "stream",
     "text": [
      " 33%|███▎      | 1744/5298 [01:23<02:16, 26.03it/s]"
     ]
    },
    {
     "name": "stdout",
     "output_type": "stream",
     "text": [
      "Error downloading http://rss.allocine.fr/ac/video/tueursenseries?format=xml: HTTPConnectionPool(host='rss.allocine.fr', port=80): Max retries exceeded with url: /ac/video/tueursenseries?format=xml (Caused by NewConnectionError('<urllib3.connection.HTTPConnection object at 0x7fc08db71090>: Failed to establish a new connection: [Errno -2] Name or service not known'))\n"
     ]
    },
    {
     "name": "stderr",
     "output_type": "stream",
     "text": [
      " 33%|███▎      | 1752/5298 [01:23<03:04, 19.17it/s]"
     ]
    },
    {
     "name": "stdout",
     "output_type": "stream",
     "text": [
      "Error downloading http://leplanaquatre.fr/feed/podcast: HTTPConnectionPool(host='leplanaquatre.fr', port=80): Max retries exceeded with url: /feed/podcast (Caused by NewConnectionError('<urllib3.connection.HTTPConnection object at 0x7fc08db70250>: Failed to establish a new connection: [Errno -2] Name or service not known'))\n"
     ]
    },
    {
     "name": "stderr",
     "output_type": "stream",
     "text": [
      " 34%|███▍      | 1793/5298 [01:25<02:12, 26.40it/s]"
     ]
    },
    {
     "name": "stdout",
     "output_type": "stream",
     "text": [
      "Error downloading https://mindcast-sport-podcast.lepodcast.fr/rss: HTTPSConnectionPool(host='sport.mindcast.fr', port=443): Max retries exceeded with url: /feed.xml (Caused by SSLError(CertificateError(\"hostname 'sport.mindcast.fr' doesn't match either of '95d.a5l.fr', 'a5l.fr', 'abonnel.fr', 'acego.fr', 'acemail.fr', 'imap.acemail.fr', 'linkluk.fr', 'monreleve.fr', 'mx.acemail.fr', 'ns3035450.a5l.fr', 'pop.acemail.fr', 'smtp.acemail.fr', 'www.a5l.fr', 'www.acego.fr', 'www.acemail.fr', 'www.linkluk.fr', 'www.monreleve.fr'\")))\n"
     ]
    },
    {
     "name": "stderr",
     "output_type": "stream",
     "text": [
      " 37%|███▋      | 1948/5298 [01:58<2:22:06,  2.55s/it]"
     ]
    },
    {
     "name": "stdout",
     "output_type": "stream",
     "text": [
      "Error downloading https://www.corse.fr/index.php?preaction=rss&type=videopodcast: HTTPSConnectionPool(host='www.corse.fr', port=443): Max retries exceeded with url: /index.php?preaction=rss&type=videopodcast (Caused by NewConnectionError('<urllib3.connection.HTTPSConnection object at 0x7fc08dbbb760>: Failed to establish a new connection: [Errno -3] Temporary failure in name resolution'))\n"
     ]
    },
    {
     "name": "stderr",
     "output_type": "stream",
     "text": [
      " 37%|███▋      | 1949/5298 [02:27<9:39:46, 10.39s/it]"
     ]
    },
    {
     "name": "stdout",
     "output_type": "stream",
     "text": [
      "Error downloading http://www.1001podcast.com/podcast/BFM/channel78/BFMchannel78.xml: HTTPConnectionPool(host='www.1001podcast.com', port=80): Max retries exceeded with url: /podcast/BFM/channel78/BFMchannel78.xml (Caused by ConnectTimeoutError(<urllib3.connection.HTTPConnection object at 0x7fc08d68f1c0>, 'Connection to www.1001podcast.com timed out. (connect timeout=None)'))\n",
      "Error downloading http://www.1001podcast.com/podcast/BFM/channel11/BFMchannel11.xml: HTTPConnectionPool(host='www.1001podcast.com', port=80): Max retries exceeded with url: /podcast/BFM/channel11/BFMchannel11.xml (Caused by ConnectTimeoutError(<urllib3.connection.HTTPConnection object at 0x7fc08c27a800>, 'Connection to www.1001podcast.com timed out. (connect timeout=None)'))\n"
     ]
    },
    {
     "name": "stderr",
     "output_type": "stream",
     "text": [
      " 37%|███▋      | 1954/5298 [02:29<2:51:42,  3.08s/it]"
     ]
    },
    {
     "name": "stdout",
     "output_type": "stream",
     "text": [
      "Error downloading http://www.1001podcast.com/podcast/RMCInfo/channel59/RMCInfochannel59.xml: HTTPConnectionPool(host='www.1001podcast.com', port=80): Max retries exceeded with url: /podcast/RMCInfo/channel59/RMCInfochannel59.xml (Caused by ConnectTimeoutError(<urllib3.connection.HTTPConnection object at 0x7fc08e71fa00>, 'Connection to www.1001podcast.com timed out. (connect timeout=None)'))\n",
      "Error downloading http://www.1001podcast.com/podcast/RMCInfo/channel30/RMCInfochannel30.xml: HTTPConnectionPool(host='www.1001podcast.com', port=80): Max retries exceeded with url: /podcast/RMCInfo/channel30/RMCInfochannel30.xml (Caused by ConnectTimeoutError(<urllib3.connection.HTTPConnection object at 0x7fc08d64ef80>, 'Connection to www.1001podcast.com timed out. (connect timeout=None)'))\n",
      "Error downloading http://www.1001podcast.com/podcast/RMCInfo/channel35/RMCInfochannel35.xml: HTTPConnectionPool(host='www.1001podcast.com', port=80): Max retries exceeded with url: /podcast/RMCInfo/channel35/RMCInfochannel35.xml (Caused by ConnectTimeoutError(<urllib3.connection.HTTPConnection object at 0x7fc08e694550>, 'Connection to www.1001podcast.com timed out. (connect timeout=None)'))\n",
      "Error downloading http://podcast.bfmradio.fr/channel17/BFMchannel17.xml: HTTPConnectionPool(host='podcast.bfmradio.fr', port=80): Max retries exceeded with url: /channel17/BFMchannel17.xml (Caused by NewConnectionError('<urllib3.connection.HTTPConnection object at 0x7fc08db73790>: Failed to establish a new connection: [Errno -2] Name or service not known'))\n"
     ]
    },
    {
     "name": "stderr",
     "output_type": "stream",
     "text": [
      " 37%|███▋      | 1978/5298 [02:31<08:06,  6.83it/s]  "
     ]
    },
    {
     "name": "stdout",
     "output_type": "stream",
     "text": [
      "Error downloading http://www.1001podcast.com/podcast/RMCInfo/channel268/RMCInfochannel268.xml: HTTPConnectionPool(host='www.1001podcast.com', port=80): Max retries exceeded with url: /podcast/RMCInfo/channel268/RMCInfochannel268.xml (Caused by ConnectTimeoutError(<urllib3.connection.HTTPConnection object at 0x7fc08e6951b0>, 'Connection to www.1001podcast.com timed out. (connect timeout=None)'))\n"
     ]
    },
    {
     "name": "stderr",
     "output_type": "stream",
     "text": [
      " 38%|███▊      | 2010/5298 [02:33<02:41, 20.37it/s]"
     ]
    },
    {
     "name": "stdout",
     "output_type": "stream",
     "text": [
      "Error downloading http://podcast.bfmradio.fr/channel168/BFMchannel168.xml: HTTPConnectionPool(host='podcast.bfmradio.fr', port=80): Max retries exceeded with url: /channel168/BFMchannel168.xml (Caused by NewConnectionError('<urllib3.connection.HTTPConnection object at 0x7fc08db71960>: Failed to establish a new connection: [Errno -2] Name or service not known'))\n"
     ]
    },
    {
     "name": "stderr",
     "output_type": "stream",
     "text": [
      " 39%|███▊      | 2049/5298 [02:35<03:05, 17.50it/s]"
     ]
    },
    {
     "name": "stdout",
     "output_type": "stream",
     "text": [
      "Error downloading http://podcast.crooner.fr/grand-hotel.xml: HTTPConnectionPool(host='podcast.crooner.fr', port=80): Max retries exceeded with url: /grand-hotel.xml (Caused by ConnectTimeoutError(<urllib3.connection.HTTPConnection object at 0x7fc08e694370>, 'Connection to podcast.crooner.fr timed out. (connect timeout=None)'))\n",
      "Error downloading http://podcast.radioalgerie.dz/fr/podcasts/Chaine%20Trois/10013/podcast.xml: HTTPConnectionPool(host='podcast.radioalgerie.dz', port=80): Max retries exceeded with url: /fr/podcasts/Chaine%20Trois/10013/podcast.xml (Caused by ConnectTimeoutError(<urllib3.connection.HTTPConnection object at 0x7fc08d6f5a20>, 'Connection to podcast.radioalgerie.dz timed out. (connect timeout=None)'))\n"
     ]
    },
    {
     "name": "stderr",
     "output_type": "stream",
     "text": [
      " 40%|███▉      | 2102/5298 [02:37<02:08, 24.80it/s]"
     ]
    },
    {
     "name": "stdout",
     "output_type": "stream",
     "text": [
      "Error downloading http://www.fbi-radio.com/podcast/podcast.xml: HTTPConnectionPool(host='www.fbi-radio.com', port=80): Max retries exceeded with url: /podcast/podcast.xml (Caused by NewConnectionError('<urllib3.connection.HTTPConnection object at 0x7fc08db955a0>: Failed to establish a new connection: [Errno -2] Name or service not known'))\n"
     ]
    },
    {
     "name": "stderr",
     "output_type": "stream",
     "text": [
      " 40%|████      | 2143/5298 [02:39<01:32, 34.13it/s]"
     ]
    },
    {
     "name": "stdout",
     "output_type": "stream",
     "text": [
      "Error downloading http://podcast13.streamakaci.com/xml/GAMEONE2.xml: HTTPConnectionPool(host='podcast13.streamakaci.com', port=80): Max retries exceeded with url: /xml/GAMEONE2.xml (Caused by NewConnectionError('<urllib3.connection.HTTPConnection object at 0x7fc08dbf92d0>: Failed to establish a new connection: [Errno -2] Name or service not known'))\n",
      "Error downloading http://podcast13.streamakaci.com/xml/GAMEONE9.xml: HTTPConnectionPool(host='podcast13.streamakaci.com', port=80): Max retries exceeded with url: /xml/GAMEONE9.xml (Caused by NewConnectionError('<urllib3.connection.HTTPConnection object at 0x7fc08dbf9bd0>: Failed to establish a new connection: [Errno -2] Name or service not known'))\n",
      "Error downloading http://podcast13.streamakaci.com/xml/MTV7.xml: HTTPConnectionPool(host='podcast13.streamakaci.com', port=80): Max retries exceeded with url: /xml/MTV7.xml (Caused by NewConnectionError('<urllib3.connection.HTTPConnection object at 0x7fc08dbf9b40>: Failed to establish a new connection: [Errno -2] Name or service not known'))\n",
      "Error downloading http://podcast13.streamakaci.com/xml/GAMEONE6.xml: HTTPConnectionPool(host='podcast13.streamakaci.com', port=80): Max retries exceeded with url: /xml/GAMEONE6.xml (Caused by NewConnectionError('<urllib3.connection.HTTPConnection object at 0x7fc08dbfb190>: Failed to establish a new connection: [Errno -2] Name or service not known'))\n"
     ]
    },
    {
     "name": "stderr",
     "output_type": "stream",
     "text": [
      " 41%|████      | 2151/5298 [02:39<01:29, 35.17it/s]"
     ]
    },
    {
     "name": "stdout",
     "output_type": "stream",
     "text": [
      "Error downloading http://rss.funradio.fr/libre-antenne.xml: HTTPConnectionPool(host='rss.funradio.fr', port=80): Max retries exceeded with url: /libre-antenne.xml (Caused by NewConnectionError('<urllib3.connection.HTTPConnection object at 0x7fc08dbf9810>: Failed to establish a new connection: [Errno -2] Name or service not known'))\n",
      "Error downloading https://www.kradukman-production.com/RSS/podcast_CodeLyok.xml: HTTPSConnectionPool(host='www.kradukman-production.com', port=443): Max retries exceeded with url: /RSS/podcast_CodeLyok.xml (Caused by SSLError(CertificateError(\"hostname 'www.kradukman-production.com' doesn't match 'cluster031.hosting.ovh.net'\")))\n"
     ]
    },
    {
     "name": "stderr",
     "output_type": "stream",
     "text": [
      " 41%|████      | 2155/5298 [02:39<01:46, 29.38it/s]"
     ]
    },
    {
     "name": "stdout",
     "output_type": "stream",
     "text": [
      "Error downloading https://www.kradukman-production.com/RSS/podcast_LeScenariste.xml: HTTPSConnectionPool(host='www.kradukman-production.com', port=443): Max retries exceeded with url: /RSS/podcast_LeScenariste.xml (Caused by SSLError(CertificateError(\"hostname 'www.kradukman-production.com' doesn't match 'cluster031.hosting.ovh.net'\")))\n"
     ]
    },
    {
     "name": "stderr",
     "output_type": "stream",
     "text": [
      " 41%|████      | 2165/5298 [02:40<03:34, 14.61it/s]"
     ]
    },
    {
     "name": "stdout",
     "output_type": "stream",
     "text": [
      "Error downloading http://www.techshower.com/p.xml: HTTPConnectionPool(host='www.techshower.com', port=80): Max retries exceeded with url: /p.xml (Caused by NewConnectionError('<urllib3.connection.HTTPConnection object at 0x7fc08dbf92a0>: Failed to establish a new connection: [Errno -2] Name or service not known'))\n"
     ]
    },
    {
     "name": "stderr",
     "output_type": "stream",
     "text": [
      " 41%|████      | 2174/5298 [02:41<03:24, 15.27it/s]"
     ]
    },
    {
     "name": "stdout",
     "output_type": "stream",
     "text": [
      "Error downloading http://www.hepatoweb.com/Podcast_Hepatoweb.XML: HTTPConnectionPool(host='www.hepatoweb.com', port=80): Max retries exceeded with url: /Podcast_Hepatoweb.XML (Caused by NewConnectionError('<urllib3.connection.HTTPConnection object at 0x7fc08dc1c040>: Failed to establish a new connection: [Errno -2] Name or service not known'))\n"
     ]
    },
    {
     "name": "stderr",
     "output_type": "stream",
     "text": [
      " 41%|████      | 2179/5298 [02:41<03:03, 17.04it/s]"
     ]
    },
    {
     "name": "stdout",
     "output_type": "stream",
     "text": [
      "Error downloading http://www.dj-mxed.com/podcast.xml: ('Connection aborted.', ConnectionResetError(104, 'Connection reset by peer'))\n"
     ]
    },
    {
     "name": "stderr",
     "output_type": "stream",
     "text": [
      " 41%|████▏     | 2191/5298 [02:43<06:13,  8.31it/s]"
     ]
    },
    {
     "name": "stdout",
     "output_type": "stream",
     "text": [
      "Error downloading http://kartelklub.com/kartelkast/kartelkast.xml: ('Connection aborted.', RemoteDisconnected('Remote end closed connection without response'))\n"
     ]
    },
    {
     "name": "stderr",
     "output_type": "stream",
     "text": [
      " 42%|████▏     | 2207/5298 [02:44<03:34, 14.40it/s]"
     ]
    },
    {
     "name": "stdout",
     "output_type": "stream",
     "text": [
      "Error downloading http://podcast13.streamakaci.com/xml/NICKELODEON15.xml: HTTPConnectionPool(host='podcast13.streamakaci.com', port=80): Max retries exceeded with url: /xml/NICKELODEON15.xml (Caused by NewConnectionError('<urllib3.connection.HTTPConnection object at 0x7fc08dc1e8c0>: Failed to establish a new connection: [Errno -2] Name or service not known'))\n",
      "Error downloading http://podcast13.streamakaci.com/xml/MTV1.xml: HTTPConnectionPool(host='podcast13.streamakaci.com', port=80): Max retries exceeded with url: /xml/MTV1.xml (Caused by NewConnectionError('<urllib3.connection.HTTPConnection object at 0x7fc08dbfa500>: Failed to establish a new connection: [Errno -2] Name or service not known'))\n"
     ]
    },
    {
     "name": "stderr",
     "output_type": "stream",
     "text": [
      " 42%|████▏     | 2211/5298 [02:44<03:30, 14.65it/s]"
     ]
    },
    {
     "name": "stdout",
     "output_type": "stream",
     "text": [
      "Error downloading http://podcast16.streamakaci.com/xml/podcast-capcom.xml: HTTPConnectionPool(host='podcast16.streamakaci.com', port=80): Max retries exceeded with url: /xml/podcast-capcom.xml (Caused by NewConnectionError('<urllib3.connection.HTTPConnection object at 0x7fc08dbfb610>: Failed to establish a new connection: [Errno -2] Name or service not known'))\n"
     ]
    },
    {
     "name": "stderr",
     "output_type": "stream",
     "text": [
      " 42%|████▏     | 2215/5298 [02:44<02:39, 19.34it/s]"
     ]
    },
    {
     "name": "stdout",
     "output_type": "stream",
     "text": [
      "Error downloading http://podcast16.streamakaci.com/xml/radiocurie_podcast.xml: HTTPConnectionPool(host='podcast16.streamakaci.com', port=80): Max retries exceeded with url: /xml/radiocurie_podcast.xml (Caused by NewConnectionError('<urllib3.connection.HTTPConnection object at 0x7fc08dc1fcd0>: Failed to establish a new connection: [Errno -2] Name or service not known'))\n",
      "Error downloading http://feeds.84st.fr/84st: HTTPConnectionPool(host='feeds.84st.fr', port=80): Max retries exceeded with url: /84st (Caused by NewConnectionError('<urllib3.connection.HTTPConnection object at 0x7fc08dbfbf10>: Failed to establish a new connection: [Errno -2] Name or service not known'))\n"
     ]
    },
    {
     "name": "stderr",
     "output_type": "stream",
     "text": [
      " 42%|████▏     | 2226/5298 [02:47<08:31,  6.01it/s]"
     ]
    },
    {
     "name": "stdout",
     "output_type": "stream",
     "text": [
      "Error downloading http://podcast.bfmradio.fr/channel9/BFMchannel9.xml: HTTPConnectionPool(host='podcast.bfmradio.fr', port=80): Max retries exceeded with url: /channel9/BFMchannel9.xml (Caused by NewConnectionError('<urllib3.connection.HTTPConnection object at 0x7fc08dc41900>: Failed to establish a new connection: [Errno -2] Name or service not known'))\n"
     ]
    },
    {
     "name": "stderr",
     "output_type": "stream",
     "text": [
      " 42%|████▏     | 2230/5298 [02:47<09:15,  5.53it/s]"
     ]
    },
    {
     "name": "stdout",
     "output_type": "stream",
     "text": [
      "Error downloading http://podcast.radioalgerie.dz/fr/podcasts/Chaine%20Trois/10453/podcast.xml: HTTPConnectionPool(host='podcast.radioalgerie.dz', port=80): Max retries exceeded with url: /fr/podcasts/Chaine%20Trois/10453/podcast.xml (Caused by ConnectTimeoutError(<urllib3.connection.HTTPConnection object at 0x7fc08d7515a0>, 'Connection to podcast.radioalgerie.dz timed out. (connect timeout=None)'))\n",
      "Error downloading https://www.kradukman-production.com/RSS/podcast_Tasheman.xml: HTTPSConnectionPool(host='www.kradukman-production.com', port=443): Max retries exceeded with url: /RSS/podcast_Tasheman.xml (Caused by SSLError(CertificateError(\"hostname 'www.kradukman-production.com' doesn't match 'cluster031.hosting.ovh.net'\")))\n"
     ]
    },
    {
     "name": "stderr",
     "output_type": "stream",
     "text": [
      " 42%|████▏     | 2249/5298 [02:49<05:10,  9.83it/s]"
     ]
    },
    {
     "name": "stdout",
     "output_type": "stream",
     "text": [
      "Error downloading http://www.culturedub.com/blog/rubrique/musique/feed/: HTTPConnectionPool(host='www.culturedub.com', port=80): Max retries exceeded with url: /blog/rubrique/musique/feed/ (Caused by ConnectTimeoutError(<urllib3.connection.HTTPConnection object at 0x7fc08d7af220>, 'Connection to www.culturedub.com timed out. (connect timeout=None)'))\n"
     ]
    },
    {
     "name": "stderr",
     "output_type": "stream",
     "text": [
      " 45%|████▍     | 2372/5298 [03:00<04:33, 10.71it/s]"
     ]
    },
    {
     "name": "stdout",
     "output_type": "stream",
     "text": [
      "Error downloading http://podcast.tranceinfrance.com/5-Mad-Core%20presents%20OrigaM%5By%5D/podcast.xml: HTTPConnectionPool(host='podcast.tranceinfrance.com', port=80): Max retries exceeded with url: /5-Mad-Core%20presents%20OrigaM%5By%5D/podcast.xml (Caused by NewConnectionError('<urllib3.connection.HTTPConnection object at 0x7fc08dc61c00>: Failed to establish a new connection: [Errno -2] Name or service not known'))\n"
     ]
    },
    {
     "name": "stderr",
     "output_type": "stream",
     "text": [
      " 45%|████▍     | 2379/5298 [03:01<04:31, 10.75it/s]"
     ]
    },
    {
     "name": "stdout",
     "output_type": "stream",
     "text": [
      "Error downloading http://rss.funradio.fr/party-fun.xml: HTTPConnectionPool(host='rss.funradio.fr', port=80): Max retries exceeded with url: /party-fun.xml (Caused by NewConnectionError('<urllib3.connection.HTTPConnection object at 0x7fc08dc62980>: Failed to establish a new connection: [Errno -2] Name or service not known'))\n"
     ]
    },
    {
     "name": "stderr",
     "output_type": "stream",
     "text": [
      " 45%|████▌     | 2387/5298 [03:02<05:11,  9.33it/s]"
     ]
    },
    {
     "name": "stdout",
     "output_type": "stream",
     "text": [
      "Error downloading http://podcast.tranceinfrance.com/1-Trance%20in%20France%20Show/podcast.xml: HTTPConnectionPool(host='podcast.tranceinfrance.com', port=80): Max retries exceeded with url: /1-Trance%20in%20France%20Show/podcast.xml (Caused by NewConnectionError('<urllib3.connection.HTTPConnection object at 0x7fc08dc62b90>: Failed to establish a new connection: [Errno -2] Name or service not known'))\n"
     ]
    },
    {
     "name": "stderr",
     "output_type": "stream",
     "text": [
      " 46%|████▌     | 2439/5298 [03:20<06:45,  7.04it/s]"
     ]
    },
    {
     "name": "stdout",
     "output_type": "stream",
     "text": [
      "Error downloading http://podcast16.streamakaci.com/xml/podcast_afci.xml: HTTPConnectionPool(host='podcast16.streamakaci.com', port=80): Max retries exceeded with url: /xml/podcast_afci.xml (Caused by NewConnectionError('<urllib3.connection.HTTPConnection object at 0x7fc08dbb8e20>: Failed to establish a new connection: [Errno -2] Name or service not known'))\n",
      "Error downloading http://podcast16.streamakaci.com/xml/podcast_FRcapgemini.xml: HTTPConnectionPool(host='podcast16.streamakaci.com', port=80): Max retries exceeded with url: /xml/podcast_FRcapgemini.xml (Caused by NewConnectionError('<urllib3.connection.HTTPConnection object at 0x7fc08da83a90>: Failed to establish a new connection: [Errno -2] Name or service not known'))\n"
     ]
    },
    {
     "name": "stderr",
     "output_type": "stream",
     "text": [
      " 49%|████▊     | 2573/5298 [03:33<01:51, 24.43it/s]"
     ]
    },
    {
     "name": "stdout",
     "output_type": "stream",
     "text": [
      "Error downloading http://podcast.tranceinfrance.com/6-Pearl%20Cast/podcast.xml: HTTPConnectionPool(host='podcast.tranceinfrance.com', port=80): Max retries exceeded with url: /6-Pearl%20Cast/podcast.xml (Caused by NewConnectionError('<urllib3.connection.HTTPConnection object at 0x7fc08dbbafe0>: Failed to establish a new connection: [Errno -2] Name or service not known'))\n",
      "Error downloading http://stockholm-sardou.blubrry.net/feed/podcast/: HTTPConnectionPool(host='stockholm-sardou.blubrry.net', port=80): Max retries exceeded with url: /feed/podcast/ (Caused by NewConnectionError('<urllib3.connection.HTTPConnection object at 0x7fc08dc43880>: Failed to establish a new connection: [Errno -2] Name or service not known'))\n"
     ]
    },
    {
     "name": "stderr",
     "output_type": "stream",
     "text": [
      " 49%|████▉     | 2589/5298 [03:34<02:40, 16.83it/s]"
     ]
    },
    {
     "name": "stdout",
     "output_type": "stream",
     "text": [
      "Error downloading http://podcast16.streamakaci.com/xml/def_mob_candidats.xml: HTTPConnectionPool(host='podcast16.streamakaci.com', port=80): Max retries exceeded with url: /xml/def_mob_candidats.xml (Caused by NewConnectionError('<urllib3.connection.HTTPConnection object at 0x7fc08dc42e90>: Failed to establish a new connection: [Errno -2] Name or service not known'))\n"
     ]
    },
    {
     "name": "stderr",
     "output_type": "stream",
     "text": [
      " 49%|████▉     | 2599/5298 [03:35<02:21, 19.06it/s]"
     ]
    },
    {
     "name": "stdout",
     "output_type": "stream",
     "text": [
      "Error downloading http://whattheduck.fr/feed/podcast/: HTTPConnectionPool(host='whattheduck.fr', port=80): Max retries exceeded with url: /feed/podcast/ (Caused by NewConnectionError('<urllib3.connection.HTTPConnection object at 0x7fc08dac1090>: Failed to establish a new connection: [Errno -3] Temporary failure in name resolution'))\n"
     ]
    },
    {
     "name": "stderr",
     "output_type": "stream",
     "text": [
      " 49%|████▉     | 2613/5298 [03:36<03:15, 13.71it/s]"
     ]
    },
    {
     "name": "stdout",
     "output_type": "stream",
     "text": [
      "Error downloading http://podcast.tranceinfrance.com/2-The%20Prog%20Session/podcast.xml: HTTPConnectionPool(host='podcast.tranceinfrance.com', port=80): Max retries exceeded with url: /2-The%20Prog%20Session/podcast.xml (Caused by NewConnectionError('<urllib3.connection.HTTPConnection object at 0x7fc08db95d20>: Failed to establish a new connection: [Errno -2] Name or service not known'))\n"
     ]
    },
    {
     "name": "stderr",
     "output_type": "stream",
     "text": [
      " 49%|████▉     | 2619/5298 [03:36<02:24, 18.50it/s]"
     ]
    },
    {
     "name": "stdout",
     "output_type": "stream",
     "text": [
      "Error downloading https://podcast.agnosys.fr/feed/podcast/3m: ('Connection aborted.', ConnectionResetError(104, 'Connection reset by peer'))\n",
      "Error downloading http://rss.allocine.fr/plein2cine/ipod: HTTPConnectionPool(host='rss.allocine.fr', port=80): Max retries exceeded with url: /plein2cine/ipod (Caused by NewConnectionError('<urllib3.connection.HTTPConnection object at 0x7fc08db95d50>: Failed to establish a new connection: [Errno -2] Name or service not known'))\n"
     ]
    },
    {
     "name": "stderr",
     "output_type": "stream",
     "text": [
      " 50%|████▉     | 2626/5298 [03:37<01:46, 25.02it/s]"
     ]
    },
    {
     "name": "stdout",
     "output_type": "stream",
     "text": [
      "Error downloading http://rss.allocine.fr/laminute/ipod: HTTPConnectionPool(host='rss.allocine.fr', port=80): Max retries exceeded with url: /laminute/ipod (Caused by NewConnectionError('<urllib3.connection.HTTPConnection object at 0x7fc08db96860>: Failed to establish a new connection: [Errno -2] Name or service not known'))\n"
     ]
    },
    {
     "name": "stderr",
     "output_type": "stream",
     "text": [
      " 50%|████▉     | 2629/5298 [03:37<01:48, 24.71it/s]"
     ]
    },
    {
     "name": "stdout",
     "output_type": "stream",
     "text": [
      "Error downloading http://planetefuzz.com/Podcasts/cinefuzzleretour/RSS/cinefuzzleretour.xml: HTTPConnectionPool(host='planetefuzz.com', port=80): Max retries exceeded with url: /Podcasts/cinefuzzleretour/RSS/cinefuzzleretour.xml (Caused by NewConnectionError('<urllib3.connection.HTTPConnection object at 0x7fc08db97d60>: Failed to establish a new connection: [Errno -2] Name or service not known'))\n"
     ]
    },
    {
     "name": "stderr",
     "output_type": "stream",
     "text": [
      " 50%|█████     | 2674/5298 [03:40<02:43, 16.04it/s]"
     ]
    },
    {
     "name": "stdout",
     "output_type": "stream",
     "text": [
      "Error downloading http://rss.allocine.fr/merciqui/ipod: HTTPConnectionPool(host='rss.allocine.fr', port=80): Max retries exceeded with url: /merciqui/ipod (Caused by NewConnectionError('<urllib3.connection.HTTPConnection object at 0x7fc08dae5180>: Failed to establish a new connection: [Errno -2] Name or service not known'))\n"
     ]
    },
    {
     "name": "stderr",
     "output_type": "stream",
     "text": [
      " 51%|█████     | 2689/5298 [03:40<01:20, 32.23it/s]"
     ]
    },
    {
     "name": "stdout",
     "output_type": "stream",
     "text": [
      "Error downloading https://permapodcast.fr/feed/episodes/: HTTPSConnectionPool(host='permapodcast.fr', port=443): Max retries exceeded with url: /feed/episodes/ (Caused by SSLError(SSLEOFError(8, '[SSL: UNEXPECTED_EOF_WHILE_READING] EOF occurred in violation of protocol (_ssl.c:1007)')))\n"
     ]
    },
    {
     "name": "stderr",
     "output_type": "stream",
     "text": [
      " 52%|█████▏    | 2764/5298 [03:43<01:29, 28.43it/s]"
     ]
    },
    {
     "name": "stdout",
     "output_type": "stream",
     "text": [
      "Error downloading https://espritdefaite.lepodcast.fr/rss: HTTPConnectionPool(host='www.ecfm.be', port=80): Max retries exceeded with url: /index.php/category/lesprit-defaite/feed/ (Caused by NewConnectionError('<urllib3.connection.HTTPConnection object at 0x7fc08dbb88e0>: Failed to establish a new connection: [Errno -2] Name or service not known'))\n"
     ]
    },
    {
     "name": "stderr",
     "output_type": "stream",
     "text": [
      " 53%|█████▎    | 2828/5298 [03:45<01:29, 27.68it/s]"
     ]
    },
    {
     "name": "stdout",
     "output_type": "stream",
     "text": [
      "Error downloading https://dimanche-depression.lepodcast.fr/rss: HTTPConnectionPool(host='www.ecfm.be', port=80): Max retries exceeded with url: /index.php/category/dimanche-depression/feed/ (Caused by NewConnectionError('<urllib3.connection.HTTPConnection object at 0x7fc08dae6f80>: Failed to establish a new connection: [Errno -2] Name or service not known'))\n"
     ]
    },
    {
     "name": "stderr",
     "output_type": "stream",
     "text": [
      " 54%|█████▍    | 2854/5298 [03:46<01:28, 27.61it/s]"
     ]
    },
    {
     "name": "stdout",
     "output_type": "stream",
     "text": [
      "Error downloading https://jeudepixel.fr/feed/jeudepixel/: HTTPSConnectionPool(host='jeudepixel.fr', port=443): Max retries exceeded with url: /feed/jeudepixel/ (Caused by SSLError(SSLCertVerificationError(1, '[SSL: CERTIFICATE_VERIFY_FAILED] certificate verify failed: self-signed certificate (_ssl.c:1007)')))\n"
     ]
    },
    {
     "name": "stderr",
     "output_type": "stream",
     "text": [
      " 54%|█████▍    | 2866/5298 [03:47<01:10, 34.48it/s]"
     ]
    },
    {
     "name": "stdout",
     "output_type": "stream",
     "text": [
      "Error downloading http://rss.allocine.fr/dedansallocine/ipod: HTTPConnectionPool(host='rss.allocine.fr', port=80): Max retries exceeded with url: /dedansallocine/ipod (Caused by NewConnectionError('<urllib3.connection.HTTPConnection object at 0x7fc08db0a8c0>: Failed to establish a new connection: [Errno -2] Name or service not known'))\n"
     ]
    },
    {
     "name": "stderr",
     "output_type": "stream",
     "text": [
      " 59%|█████▉    | 3137/5298 [04:01<02:56, 12.24it/s]"
     ]
    },
    {
     "name": "stdout",
     "output_type": "stream",
     "text": [
      "Error downloading https://au-dos-des-photos.lepodcast.fr/rss: HTTPSConnectionPool(host='myriapod.fr', port=443): Max retries exceeded with url: /audosdesphotos/sabonner.xml (Caused by NewConnectionError('<urllib3.connection.HTTPSConnection object at 0x7fc08db6a7d0>: Failed to establish a new connection: [Errno -2] Name or service not known'))\n"
     ]
    },
    {
     "name": "stderr",
     "output_type": "stream",
     "text": [
      " 61%|██████    | 3239/5298 [04:17<06:23,  5.37it/s]"
     ]
    },
    {
     "name": "stdout",
     "output_type": "stream",
     "text": [
      "Error downloading https://on-lache-rien.lepodcast.fr/rss: HTTPSConnectionPool(host='olr.mindcast.fr', port=443): Max retries exceeded with url: /feed.xml (Caused by SSLError(CertificateError(\"hostname 'olr.mindcast.fr' doesn't match either of '95d.a5l.fr', 'a5l.fr', 'abonnel.fr', 'acego.fr', 'acemail.fr', 'imap.acemail.fr', 'linkluk.fr', 'monreleve.fr', 'mx.acemail.fr', 'ns3035450.a5l.fr', 'pop.acemail.fr', 'smtp.acemail.fr', 'www.a5l.fr', 'www.acego.fr', 'www.acemail.fr', 'www.linkluk.fr', 'www.monreleve.fr'\")))\n"
     ]
    },
    {
     "name": "stderr",
     "output_type": "stream",
     "text": [
      " 61%|██████    | 3242/5298 [04:19<11:23,  3.01it/s]"
     ]
    },
    {
     "name": "stdout",
     "output_type": "stream",
     "text": [
      "Error downloading http://podcast.bfmradio.fr/channel5/BFMchannel5.xml: HTTPConnectionPool(host='podcast.bfmradio.fr', port=80): Max retries exceeded with url: /channel5/BFMchannel5.xml (Caused by NewConnectionError('<urllib3.connection.HTTPConnection object at 0x7fc08c513940>: Failed to establish a new connection: [Errno -2] Name or service not known'))\n"
     ]
    },
    {
     "name": "stderr",
     "output_type": "stream",
     "text": [
      " 62%|██████▏   | 3273/5298 [04:44<35:11,  1.04s/it]"
     ]
    },
    {
     "name": "stdout",
     "output_type": "stream",
     "text": [
      "Error downloading http://api2.hotmixradio.fr/rss/podcast-myhotmix.php: HTTPConnectionPool(host='api2.hotmixradio.fr', port=80): Max retries exceeded with url: /rss/podcast-myhotmix.php (Caused by ConnectTimeoutError(<urllib3.connection.HTTPConnection object at 0x7fc08dbd6e60>, 'Connection to api2.hotmixradio.fr timed out. (connect timeout=None)'))\n"
     ]
    },
    {
     "name": "stderr",
     "output_type": "stream",
     "text": [
      " 62%|██████▏   | 3274/5298 [04:48<1:00:59,  1.81s/it]"
     ]
    },
    {
     "name": "stdout",
     "output_type": "stream",
     "text": [
      "Error downloading https://api2.hotmixradio.fr/includes/home/rocklive_rock.xml: HTTPSConnectionPool(host='api2.hotmixradio.fr', port=443): Max retries exceeded with url: /includes/home/rocklive_rock.xml (Caused by ConnectTimeoutError(<urllib3.connection.HTTPSConnection object at 0x7fc08dbfbe50>, 'Connection to api2.hotmixradio.fr timed out. (connect timeout=None)'))Error downloading https://api2.hotmixradio.fr/includes/home/afterwork_hotmixradio.xml: HTTPSConnectionPool(host='api2.hotmixradio.fr', port=443): Max retries exceeded with url: /includes/home/afterwork_hotmixradio.xml (Caused by ConnectTimeoutError(<urllib3.connection.HTTPSConnection object at 0x7fc08db736d0>, 'Connection to api2.hotmixradio.fr timed out. (connect timeout=None)'))\n",
      "\n"
     ]
    },
    {
     "name": "stderr",
     "output_type": "stream",
     "text": [
      " 62%|██████▏   | 3279/5298 [04:50<24:38,  1.37it/s]  "
     ]
    },
    {
     "name": "stdout",
     "output_type": "stream",
     "text": [
      "Error downloading http://www.1001podcast.com/podcast/BFM/channel122/BFMchannel122.xml: HTTPConnectionPool(host='www.1001podcast.com', port=80): Max retries exceeded with url: /podcast/BFM/channel122/BFMchannel122.xml (Caused by ConnectTimeoutError(<urllib3.connection.HTTPConnection object at 0x7fc08dc1d840>, 'Connection to www.1001podcast.com timed out. (connect timeout=None)'))\n"
     ]
    },
    {
     "name": "stderr",
     "output_type": "stream",
     "text": [
      " 62%|██████▏   | 3281/5298 [04:54<42:49,  1.27s/it]"
     ]
    },
    {
     "name": "stdout",
     "output_type": "stream",
     "text": [
      "Error downloading http://podcast.radioalgerie.dz/fr/podcasts/Jil%20FM/737/podcast.xml: HTTPConnectionPool(host='podcast.radioalgerie.dz', port=80): Max retries exceeded with url: /fr/podcasts/Jil%20FM/737/podcast.xml (Caused by ConnectTimeoutError(<urllib3.connection.HTTPConnection object at 0x7fc08dc40fd0>, 'Connection to podcast.radioalgerie.dz timed out. (connect timeout=None)'))\n"
     ]
    },
    {
     "name": "stderr",
     "output_type": "stream",
     "text": [
      " 66%|██████▌   | 3476/5298 [05:22<01:09, 26.20it/s]  "
     ]
    },
    {
     "name": "stdout",
     "output_type": "stream",
     "text": [
      "Error downloading http://podcast.b2zen.com/?feed=podcast: HTTPConnectionPool(host='podcast.b2zen.com', port=80): Max retries exceeded with url: /?feed=podcast (Caused by NewConnectionError('<urllib3.connection.HTTPConnection object at 0x7fc08dac16c0>: Failed to establish a new connection: [Errno -2] Name or service not known'))\n"
     ]
    },
    {
     "name": "stderr",
     "output_type": "stream",
     "text": [
      " 66%|██████▌   | 3498/5298 [05:25<01:59, 15.08it/s]"
     ]
    },
    {
     "name": "stdout",
     "output_type": "stream",
     "text": [
      "Error downloading http://podcast16.streamakaci.com/xml/rffpodcast.xml: HTTPConnectionPool(host='podcast16.streamakaci.com', port=80): Max retries exceeded with url: /xml/rffpodcast.xml (Caused by NewConnectionError('<urllib3.connection.HTTPConnection object at 0x7fc08c532b00>: Failed to establish a new connection: [Errno -2] Name or service not known'))\n"
     ]
    },
    {
     "name": "stderr",
     "output_type": "stream",
     "text": [
      " 69%|██████▊   | 3635/5298 [05:35<01:08, 24.45it/s]"
     ]
    },
    {
     "name": "stdout",
     "output_type": "stream",
     "text": [
      "Error downloading http://www.1001podcast.com/podcast/BFM/channel126/BFMchannel126.xml: HTTPConnectionPool(host='www.1001podcast.com', port=80): Max retries exceeded with url: /podcast/BFM/channel126/BFMchannel126.xml (Caused by ConnectTimeoutError(<urllib3.connection.HTTPConnection object at 0x7fc08daa4b80>, 'Connection to www.1001podcast.com timed out. (connect timeout=None)'))\n"
     ]
    },
    {
     "name": "stderr",
     "output_type": "stream",
     "text": [
      " 70%|██████▉   | 3696/5298 [05:37<01:03, 25.32it/s]"
     ]
    },
    {
     "name": "stdout",
     "output_type": "stream",
     "text": [
      "Error downloading http://www.1001podcast.com/podcast/BFM/channel20/BFMchannel20.xml: HTTPConnectionPool(host='www.1001podcast.com', port=80): Max retries exceeded with url: /podcast/BFM/channel20/BFMchannel20.xml (Caused by ConnectTimeoutError(<urllib3.connection.HTTPConnection object at 0x7fc08dc61bd0>, 'Connection to www.1001podcast.com timed out. (connect timeout=None)'))\n",
      "Error downloading http://www.lauraleishman.com/feed/podcastfr: HTTPConnectionPool(host='www.lauraleishman.com', port=80): Max retries exceeded with url: /feed/podcastfr (Caused by NewConnectionError('<urllib3.connection.HTTPConnection object at 0x7fc08c553550>: Failed to establish a new connection: [Errno -3] Temporary failure in name resolution'))\n"
     ]
    },
    {
     "name": "stderr",
     "output_type": "stream",
     "text": [
      " 72%|███████▏  | 3822/5298 [05:48<02:20, 10.53it/s]"
     ]
    },
    {
     "name": "stdout",
     "output_type": "stream",
     "text": [
      "Error downloading http://podcast.bfmradio.fr/channel204/BFMchannel204.xml: HTTPConnectionPool(host='podcast.bfmradio.fr', port=80): Max retries exceeded with url: /channel204/BFMchannel204.xml (Caused by NewConnectionError('<urllib3.connection.HTTPConnection object at 0x7fc08c5b5f00>: Failed to establish a new connection: [Errno -2] Name or service not known'))\n"
     ]
    },
    {
     "name": "stderr",
     "output_type": "stream",
     "text": [
      " 73%|███████▎  | 3865/5298 [05:51<00:57, 24.92it/s]"
     ]
    },
    {
     "name": "stdout",
     "output_type": "stream",
     "text": [
      "Error downloading http://podcast.justice.gouv.fr/feed/podcast: HTTPConnectionPool(host='podcast.justice.gouv.fr', port=80): Max retries exceeded with url: /feed/podcast (Caused by ConnectTimeoutError(<urllib3.connection.HTTPConnection object at 0x7fc08dbbb790>, 'Connection to podcast.justice.gouv.fr timed out. (connect timeout=None)'))\n"
     ]
    },
    {
     "name": "stderr",
     "output_type": "stream",
     "text": [
      " 73%|███████▎  | 3868/5298 [05:52<02:00, 11.90it/s]"
     ]
    },
    {
     "name": "stdout",
     "output_type": "stream",
     "text": [
      "Error downloading http://podcast.bfmradio.fr/channel178/BFMchannel178.xml: HTTPConnectionPool(host='podcast.bfmradio.fr', port=80): Max retries exceeded with url: /channel178/BFMchannel178.xml (Caused by NewConnectionError('<urllib3.connection.HTTPConnection object at 0x7fc08c5b4a00>: Failed to establish a new connection: [Errno -2] Name or service not known'))\n"
     ]
    },
    {
     "name": "stderr",
     "output_type": "stream",
     "text": [
      " 74%|███████▍  | 3933/5298 [05:58<01:20, 16.92it/s]"
     ]
    },
    {
     "name": "stdout",
     "output_type": "stream",
     "text": [
      "Error downloading https://www.jaimebienquandtuparles.com/feed/podcast/les-gens-qui-doutent: HTTPSConnectionPool(host='www.jaimebienquandtuparles.com', port=443): Max retries exceeded with url: /feed/podcast/les-gens-qui-doutent (Caused by NewConnectionError('<urllib3.connection.HTTPSConnection object at 0x7fc08c3ffc10>: Failed to establish a new connection: [Errno -2] Name or service not known'))\n"
     ]
    },
    {
     "name": "stderr",
     "output_type": "stream",
     "text": [
      " 76%|███████▋  | 4045/5298 [06:06<01:42, 12.24it/s]"
     ]
    },
    {
     "name": "stdout",
     "output_type": "stream",
     "text": [
      "Error downloading https://podcast-lu.kwydis.lu/flux.rss: HTTPSConnectionPool(host='podcast-lu.kwydis.lu', port=443): Max retries exceeded with url: /flux.rss (Caused by NewConnectionError('<urllib3.connection.HTTPSConnection object at 0x7fc08c5724d0>: Failed to establish a new connection: [Errno -2] Name or service not known'))\n"
     ]
    },
    {
     "name": "stderr",
     "output_type": "stream",
     "text": [
      " 79%|███████▉  | 4197/5298 [06:16<01:47, 10.23it/s]"
     ]
    },
    {
     "name": "stdout",
     "output_type": "stream",
     "text": [
      "Error downloading https://www.productifetserein.com/podcasts/JLTM.xml: HTTPSConnectionPool(host='www.productifetserein.com', port=443): Max retries exceeded with url: /podcasts/JLTM.xml (Caused by NewConnectionError('<urllib3.connection.HTTPSConnection object at 0x7fc08c597190>: Failed to establish a new connection: [Errno -5] No address associated with hostname'))\n"
     ]
    },
    {
     "name": "stderr",
     "output_type": "stream",
     "text": [
      " 82%|████████▏ | 4343/5298 [06:25<01:21, 11.73it/s]"
     ]
    },
    {
     "name": "stdout",
     "output_type": "stream",
     "text": [
      "Error downloading https://www.macifcourseaularge.com/feed/podcast: HTTPSConnectionPool(host='www.macifcourseaularge.com', port=443): Max retries exceeded with url: /feed/podcast (Caused by SSLError(CertificateError(\"hostname 'www.macifcourseaularge.com' doesn't match either of 'www.macif.fr', 'macif.fr'\")))\n"
     ]
    },
    {
     "name": "stderr",
     "output_type": "stream",
     "text": [
      " 82%|████████▏ | 4369/5298 [06:27<00:41, 22.23it/s]"
     ]
    },
    {
     "name": "stdout",
     "output_type": "stream",
     "text": [
      "Error downloading https://www.larrondie-podcast.com/podcast?format=rss: HTTPSConnectionPool(host='www.larrondie-podcast.com', port=443): Max retries exceeded with url: /podcast?format=rss (Caused by NewConnectionError('<urllib3.connection.HTTPSConnection object at 0x7fc08dc42740>: Failed to establish a new connection: [Errno -2] Name or service not known'))\n"
     ]
    },
    {
     "name": "stderr",
     "output_type": "stream",
     "text": [
      " 84%|████████▍ | 4445/5298 [06:32<01:04, 13.14it/s]"
     ]
    },
    {
     "name": "stdout",
     "output_type": "stream",
     "text": [
      "Error downloading https://www.umenity.com/feed/podcast: ('Connection aborted.', OSError(107, 'Transport endpoint is not connected'))\n"
     ]
    },
    {
     "name": "stderr",
     "output_type": "stream",
     "text": [
      " 85%|████████▍ | 4498/5298 [06:36<00:47, 16.71it/s]"
     ]
    },
    {
     "name": "stdout",
     "output_type": "stream",
     "text": [
      "Error downloading http://www.blacklemonade.fr/feed/podcast: HTTPConnectionPool(host='www.blacklemonade.fr', port=80): Max retries exceeded with url: /feed/podcast (Caused by NewConnectionError('<urllib3.connection.HTTPConnection object at 0x7fc08c2e6500>: Failed to establish a new connection: [Errno -2] Name or service not known'))\n"
     ]
    },
    {
     "name": "stderr",
     "output_type": "stream",
     "text": [
      " 87%|████████▋ | 4594/5298 [06:47<02:28,  4.75it/s]"
     ]
    },
    {
     "name": "stdout",
     "output_type": "stream",
     "text": [
      "Error downloading https://cdn.lespoesiesdheloise.fr/feed.xml: HTTPSConnectionPool(host='cdn.lespoesiesdheloise.fr', port=443): Max retries exceeded with url: /feed.xml (Caused by NewConnectionError('<urllib3.connection.HTTPSConnection object at 0x7fc08c2e49d0>: Failed to establish a new connection: [Errno -2] Name or service not known'))\n"
     ]
    },
    {
     "name": "stderr",
     "output_type": "stream",
     "text": [
      " 88%|████████▊ | 4675/5298 [07:03<01:59,  5.20it/s]"
     ]
    },
    {
     "name": "stdout",
     "output_type": "stream",
     "text": [
      "Error downloading https://www6.lequipe.fr/rss/eds_podcast.xml: HTTPSConnectionPool(host='www6.lequipe.fr', port=443): Max retries exceeded with url: /rss/eds_podcast.xml (Caused by NewConnectionError('<urllib3.connection.HTTPSConnection object at 0x7fc08c4ecd90>: Failed to establish a new connection: [Errno -3] Temporary failure in name resolution'))\n"
     ]
    },
    {
     "name": "stderr",
     "output_type": "stream",
     "text": [
      " 88%|████████▊ | 4687/5298 [07:09<02:38,  3.85it/s]"
     ]
    },
    {
     "name": "stdout",
     "output_type": "stream",
     "text": [
      "Error downloading http://fr.capstable.net/feed/podcast/: HTTPConnectionPool(host='fr.capstable.net', port=80): Max retries exceeded with url: /feed/podcast/ (Caused by NewConnectionError('<urllib3.connection.HTTPConnection object at 0x7fc08c4ef4c0>: Failed to establish a new connection: [Errno -2] Name or service not known'))\n"
     ]
    },
    {
     "name": "stderr",
     "output_type": "stream",
     "text": [
      " 89%|████████▉ | 4712/5298 [07:30<04:09,  2.35it/s]"
     ]
    },
    {
     "name": "stdout",
     "output_type": "stream",
     "text": [
      "Error downloading https://www.editionsmontparnasse.fr/feeds/rss2.xml: ('Connection aborted.', OSError(107, 'Transport endpoint is not connected'))\n"
     ]
    },
    {
     "name": "stderr",
     "output_type": "stream",
     "text": [
      " 91%|█████████ | 4825/5298 [07:53<00:52,  9.09it/s]"
     ]
    },
    {
     "name": "stdout",
     "output_type": "stream",
     "text": [
      "Error downloading https://branchetonmicro.retrogamer.ca/podcast/feed.xml: HTTPSConnectionPool(host='branchetonmicro.retrogamer.ca', port=443): Max retries exceeded with url: /podcast/feed.xml (Caused by NewConnectionError('<urllib3.connection.HTTPSConnection object at 0x7fc08c551780>: Failed to establish a new connection: [Errno -3] Temporary failure in name resolution'))\n"
     ]
    },
    {
     "name": "stderr",
     "output_type": "stream",
     "text": [
      " 92%|█████████▏| 4857/5298 [07:57<01:30,  4.86it/s]"
     ]
    },
    {
     "name": "stdout",
     "output_type": "stream",
     "text": [
      "Error downloading https://cristaletmandarine.com/feed/podcast/: HTTPSConnectionPool(host='cristaletmandarine.com', port=443): Max retries exceeded with url: /feed/podcast/ (Caused by NewConnectionError('<urllib3.connection.HTTPSConnection object at 0x7fc08c32bc10>: Failed to establish a new connection: [Errno -2] Name or service not known'))\n"
     ]
    },
    {
     "name": "stderr",
     "output_type": "stream",
     "text": [
      " 92%|█████████▏| 4868/5298 [07:58<00:39, 11.01it/s]"
     ]
    },
    {
     "name": "stdout",
     "output_type": "stream",
     "text": [
      "Error downloading https://soufiane-abou-ayyoub.com/feed/podcast: HTTPSConnectionPool(host='soufiane-abou-ayyoub.com', port=443): Max retries exceeded with url: /feed/podcast (Caused by NewConnectionError('<urllib3.connection.HTTPSConnection object at 0x7fc08c30a5c0>: Failed to establish a new connection: [Errno -2] Name or service not known'))\n"
     ]
    },
    {
     "name": "stderr",
     "output_type": "stream",
     "text": [
      "100%|██████████| 5298/5298 [17:22<00:00,  5.08it/s]"
     ]
    },
    {
     "name": "stdout",
     "output_type": "stream",
     "text": [
      "Error downloading https://podcast.agnosys.fr/feed/podcast/ua: HTTPSConnectionPool(host='podcast.agnosys.fr', port=443): Read timed out. (read timeout=None)\n"
     ]
    },
    {
     "name": "stderr",
     "output_type": "stream",
     "text": [
      "\n"
     ]
    }
   ],
   "source": [
    "def download_rss(url, output_folder, tech_id):\n",
    "    try:\n",
    "        response = requests.get(url)\n",
    "        if response.status_code == 200:\n",
    "            content = response.content\n",
    "            output_filename = os.path.join(output_folder, f\"{tech_id}.xml\")\n",
    "            with open(output_filename, 'ab') as f:\n",
    "                f.write(content)\n",
    "    except Exception as e:\n",
    "        print(f\"Error downloading {url}: {str(e)}\")\n",
    "\n",
    "def download_rss_async(df, output_folder, max_workers):\n",
    "    urls_and_ids = df[['UGC_TECH_RSS_URL', 'UGC_TECH_ID']].to_records(index=False)\n",
    "    with concurrent.futures.ThreadPoolExecutor(max_workers=max_workers) as executor:\n",
    "        futures = []\n",
    "        for url, tech_id in urls_and_ids:\n",
    "            futures.append(executor.submit(download_rss, url, output_folder, tech_id))\n",
    "        \n",
    "        for future in tqdm(concurrent.futures.as_completed(futures), total=len(futures)):\n",
    "            pass\n",
    "\n",
    "output_folder = 'rss'\n",
    "max_workers = 20\n",
    "\n",
    "download_rss_async(df, output_folder, max_workers)\n"
   ]
  },
  {
   "cell_type": "markdown",
   "metadata": {},
   "source": [
    "### Create a dataset of audio link to podcast"
   ]
  },
  {
   "cell_type": "code",
   "execution_count": 43,
   "metadata": {},
   "outputs": [
    {
     "name": "stderr",
     "output_type": "stream",
     "text": [
      "5298it [08:34, 10.29it/s] \n"
     ]
    }
   ],
   "source": [
    "import feedparser\n",
    "\n",
    "preprocessed_ds = []\n",
    "\n",
    "\n",
    "for row in tqdm(df.iterrows()):\n",
    "    filename = f\"rss/{row[1]['UGC_TECH_ID']}.xml\"\n",
    "    if os.path.exists(filename):\n",
    "        feed = feedparser.parse(filename)\n",
    "\n",
    "        for entry in feed.entries:\n",
    "            if \"enclosures\" in entry and len(entry.enclosures) > 0:\n",
    "                for enclosure in entry.enclosures:\n",
    "                    if \"type\" in enclosure and enclosure.type == \"audio/mpeg\":\n",
    "                        title = entry.title\n",
    "                        link = enclosure.href\n",
    "                        publication_date = entry.published if \"published\" in entry else \"nan\"\n",
    "\n",
    "                        duration = \"nan\"\n",
    "                        if hasattr(entry, 'itunes_duration'):\n",
    "                            duration = entry.itunes_duration\n",
    "                        elif hasattr(entry, 'itunes_duration'):\n",
    "                            duration = entry.itunes_duration[0]\n",
    "\n",
    "                        preprocessed_ds.append([row[1]['UGC_TECH_ID'], row[1]['UGC_TECH_DATE_ENTREE_COLLECTE'], row[1]['UGC_TECH_RSS_URL'], title, publication_date, duration, link])"
   ]
  },
  {
   "cell_type": "code",
   "execution_count": 44,
   "metadata": {},
   "outputs": [
    {
     "data": {
      "text/plain": [
       "281759"
      ]
     },
     "execution_count": 44,
     "metadata": {},
     "output_type": "execute_result"
    }
   ],
   "source": [
    "len(preprocessed_ds)"
   ]
  },
  {
   "cell_type": "code",
   "execution_count": 45,
   "metadata": {},
   "outputs": [],
   "source": [
    "column_names = ['programme_id', 'programme_entry_date', 'programme_rss_link', 'podcast_title', 'podcast_date', 'podcast_duration', 'audio_podcast_link']\n",
    "preprocessed_df = pd.DataFrame(preprocessed_ds, columns=column_names)\n",
    "preprocessed_df.to_csv(\"french_podcast.csv\", escapechar=\"§\", index=False)"
   ]
  }
 ],
 "metadata": {
  "kernelspec": {
   "display_name": "lyrics",
   "language": "python",
   "name": "python3"
  },
  "language_info": {
   "codemirror_mode": {
    "name": "ipython",
    "version": 3
   },
   "file_extension": ".py",
   "mimetype": "text/x-python",
   "name": "python",
   "nbconvert_exporter": "python",
   "pygments_lexer": "ipython3",
   "version": "3.10.12"
  },
  "orig_nbformat": 4
 },
 "nbformat": 4,
 "nbformat_minor": 2
}
